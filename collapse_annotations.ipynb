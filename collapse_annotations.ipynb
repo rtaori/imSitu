{
 "cells": [
  {
   "cell_type": "code",
   "execution_count": 1,
   "id": "2f71914c",
   "metadata": {},
   "outputs": [],
   "source": [
    "import json\n",
    "import re\n",
    "import matplotlib.pyplot as plt\n",
    "from collections import Counter\n",
    "import random"
   ]
  },
  {
   "cell_type": "code",
   "execution_count": 2,
   "id": "4b3db336",
   "metadata": {},
   "outputs": [],
   "source": [
    "train_set = json.load(open('train.json'))\n",
    "dev_set = json.load(open('dev.json'))\n",
    "test_set = json.load(open('test.json'))\n",
    "data_all = train_set | dev_set | test_set"
   ]
  },
  {
   "cell_type": "code",
   "execution_count": 3,
   "id": "e2cbdfe7",
   "metadata": {},
   "outputs": [],
   "source": [
    "for image, annotations in data_all.items():\n",
    "    frame_keys = None\n",
    "    for frame in annotations['frames']:\n",
    "        if frame_keys is None: frame_keys = set(frame.keys())\n",
    "        else: assert frame_keys == set(frame.keys())"
   ]
  },
  {
   "cell_type": "code",
   "execution_count": 4,
   "id": "2091bf25",
   "metadata": {},
   "outputs": [],
   "source": [
    "no_agreement_nouns, no_agreement_images = 0, 0\n",
    "total_nouns, total_images = 0, len(data_all)\n",
    "for image, annotations in data_all.items():\n",
    "    no_agreement_image = False\n",
    "    frame_collapsed = {k: [] for k in annotations['frames'][0].keys()}\n",
    "    total_nouns += len(frame_collapsed)\n",
    "    for frame in annotations['frames']:\n",
    "        for k, v in frame.items():\n",
    "            frame_collapsed[k].append(v)\n",
    "    for k in frame_collapsed.keys():\n",
    "        if Counter(frame_collapsed[k]).most_common(1)[0][1] == 1:\n",
    "            no_agreement_nouns += 1\n",
    "            no_agreement_image = True\n",
    "        frame_collapsed[k] = Counter(frame_collapsed[k]).most_common(1)[0][0]\n",
    "    no_agreement_images += no_agreement_image"
   ]
  },
  {
   "cell_type": "code",
   "execution_count": 5,
   "id": "b4573559",
   "metadata": {},
   "outputs": [
    {
     "data": {
      "text/plain": [
       "(105857, 451916, 0.23424043406296746)"
      ]
     },
     "execution_count": 5,
     "metadata": {},
     "output_type": "execute_result"
    }
   ],
   "source": [
    "no_agreement_nouns, total_nouns, no_agreement_nouns / total_nouns"
   ]
  },
  {
   "cell_type": "code",
   "execution_count": 6,
   "id": "fe00e4a3",
   "metadata": {},
   "outputs": [
    {
     "data": {
      "text/plain": [
       "(73618, 126102, 0.5837972435012926)"
      ]
     },
     "execution_count": 6,
     "metadata": {},
     "output_type": "execute_result"
    }
   ],
   "source": [
    "no_agreement_images, total_images, no_agreement_images / total_images"
   ]
  },
  {
   "cell_type": "code",
   "execution_count": 8,
   "id": "9e07d3b0",
   "metadata": {},
   "outputs": [],
   "source": [
    "data_all_collapsed = {}\n",
    "for image, annotations in data_all.items():\n",
    "    frame_collapsed = {k: [] for k in annotations['frames'][0].keys()}\n",
    "    for frame in annotations['frames']:\n",
    "        for k, v in frame.items():\n",
    "            frame_collapsed[k].append(v)\n",
    "    for k in frame_collapsed.keys():\n",
    "        maj_v, count = Counter(frame_collapsed[k]).most_common(1)[0]\n",
    "        if count == 1:\n",
    "            frame_collapsed[k] = random.choice(frame_collapsed[k])\n",
    "        else:\n",
    "            frame_collapsed[k] = maj_v\n",
    "    data_all_collapsed[image] = {'verb': annotations['verb'], 'frames': [frame_collapsed]}"
   ]
  },
  {
   "cell_type": "code",
   "execution_count": null,
   "id": "3445a06c",
   "metadata": {},
   "outputs": [],
   "source": []
  }
 ],
 "metadata": {
  "kernelspec": {
   "display_name": "Python 3 (ipykernel)",
   "language": "python",
   "name": "python3"
  },
  "language_info": {
   "codemirror_mode": {
    "name": "ipython",
    "version": 3
   },
   "file_extension": ".py",
   "mimetype": "text/x-python",
   "name": "python",
   "nbconvert_exporter": "python",
   "pygments_lexer": "ipython3",
   "version": "3.9.6"
  }
 },
 "nbformat": 4,
 "nbformat_minor": 5
}
