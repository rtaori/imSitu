{
 "cells": [
  {
   "cell_type": "code",
   "execution_count": 9,
   "id": "c8064909",
   "metadata": {},
   "outputs": [],
   "source": [
    "import json\n",
    "import re"
   ]
  },
  {
   "cell_type": "markdown",
   "id": "66fa6d19",
   "metadata": {},
   "source": [
    "Ignore these blocks of code here"
   ]
  },
  {
   "cell_type": "code",
   "execution_count": 11,
   "id": "92b39b57",
   "metadata": {},
   "outputs": [],
   "source": [
    "imsitu_space = json.load(open('imsitu_space.json'))"
   ]
  },
  {
   "cell_type": "code",
   "execution_count": 12,
   "id": "39302df6",
   "metadata": {},
   "outputs": [],
   "source": [
    "def get_word_gender_map(wordsfile = \"/juice/scr/rtaori/imsitu_data/words.txt\"):\n",
    "    word_map = {}\n",
    "    wordmap2 = {}\n",
    "    M = ['man']\n",
    "    F = ['woman']\n",
    "    with open(wordsfile) as words_f:\n",
    "        for line in words_f:\n",
    "            words = line.strip().split('\\t')\n",
    "            word_map[words[0]] = words[1]\n",
    "            all_words = re.split(' |, ', words[1])\n",
    "            gender = set()\n",
    "            for m in M:\n",
    "                if m in all_words:\n",
    "                    gender.add('m')\n",
    "                    break\n",
    "            for f in F:\n",
    "                if f in all_words:\n",
    "                    gender.add('f')\n",
    "                    break\n",
    "            tmp = ''.join(list(gender))\n",
    "            wordmap2[words[0]] = tmp\n",
    "        wordmap2['null'] = 'null'\n",
    "    return word_map, wordmap2"
   ]
  },
  {
   "cell_type": "code",
   "execution_count": 13,
   "id": "1764efcc",
   "metadata": {},
   "outputs": [],
   "source": [
    "word_map, wordmap2 = get_word_gender_map()\n",
    "male_nouns, female_nouns = [], []\n",
    "for noun_id, gender in wordmap2.items():\n",
    "    if gender == 'm':\n",
    "        male_nouns.append(noun_id)\n",
    "    if gender == 'f':\n",
    "        female_nouns.append(noun_id)"
   ]
  },
  {
   "cell_type": "markdown",
   "id": "a9a9a11f",
   "metadata": {},
   "source": [
    "This calculates the gender ratio for cooking on the training set"
   ]
  },
  {
   "cell_type": "code",
   "execution_count": 28,
   "id": "82a042f1",
   "metadata": {},
   "outputs": [],
   "source": [
    "man_noun, woman_noun = 'n10287213', 'n10787470'\n",
    "train_set = json.load(open('train.json'))"
   ]
  },
  {
   "cell_type": "code",
   "execution_count": 39,
   "id": "2e1ea540",
   "metadata": {},
   "outputs": [
    {
     "name": "stdout",
     "output_type": "stream",
     "text": [
      "33 68 0.6732673267326733\n"
     ]
    }
   ],
   "source": [
    "man_count, woman_count = 0, 0\n",
    "for i, (image, info) in enumerate(train_set.items()):\n",
    "    if info['verb'] == 'cooking':\n",
    "        agents = [frame['agent'] for frame in info['frames']]\n",
    "#         is_man = any(noun in agents for noun in male_nouns)\n",
    "#         is_woman = any(noun in agents for noun in female_nouns)\n",
    "        is_man = man_noun in agents\n",
    "        is_woman = woman_noun in agents\n",
    "        if is_man and not is_woman:\n",
    "            man_count += 1\n",
    "        if is_woman and not is_man:\n",
    "            woman_count += 1\n",
    "print(man_count, woman_count, woman_count / (man_count + woman_count))"
   ]
  },
  {
   "cell_type": "markdown",
   "id": "28e531f7",
   "metadata": {},
   "source": [
    "This calculates the cooking gender ratio for model predictions on the dev set "
   ]
  },
  {
   "cell_type": "code",
   "execution_count": 41,
   "id": "e97ab7c8",
   "metadata": {},
   "outputs": [],
   "source": [
    "dev_preds = json.load(open('predictions.json'))"
   ]
  },
  {
   "cell_type": "code",
   "execution_count": 42,
   "id": "49ddcbea",
   "metadata": {},
   "outputs": [
    {
     "data": {
      "text/plain": [
       "25200"
      ]
     },
     "execution_count": 42,
     "metadata": {},
     "output_type": "execute_result"
    }
   ],
   "source": [
    "len(dev_preds)"
   ]
  },
  {
   "cell_type": "code",
   "execution_count": 43,
   "id": "d3df8ea5",
   "metadata": {},
   "outputs": [
    {
     "name": "stdout",
     "output_type": "stream",
     "text": [
      "5 56 0.9180327868852459\n"
     ]
    }
   ],
   "source": [
    "man_count, woman_count = 0, 0\n",
    "for i, (image, pred) in enumerate(dev_preds.items()):\n",
    "    info = pred[0]\n",
    "    if info['verb'] == 'cooking':\n",
    "        agents = [frame['agent'] for frame in info['frames']]\n",
    "#         is_man = any(noun in agents for noun in male_nouns)\n",
    "#         is_woman = any(noun in agents for noun in female_nouns)\n",
    "        is_man = man_noun in agents\n",
    "        is_woman = woman_noun in agents\n",
    "        if is_man and not is_woman:\n",
    "            man_count += 1\n",
    "        if is_woman and not is_man:\n",
    "            woman_count += 1\n",
    "print(man_count, woman_count, woman_count / (man_count + woman_count))"
   ]
  },
  {
   "cell_type": "code",
   "execution_count": null,
   "id": "2ca5fe78",
   "metadata": {},
   "outputs": [],
   "source": []
  }
 ],
 "metadata": {
  "kernelspec": {
   "display_name": "Python 3 (ipykernel)",
   "language": "python",
   "name": "python3"
  },
  "language_info": {
   "codemirror_mode": {
    "name": "ipython",
    "version": 3
   },
   "file_extension": ".py",
   "mimetype": "text/x-python",
   "name": "python",
   "nbconvert_exporter": "python",
   "pygments_lexer": "ipython3",
   "version": "3.9.6"
  }
 },
 "nbformat": 4,
 "nbformat_minor": 5
}
