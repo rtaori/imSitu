{
 "cells": [
  {
   "cell_type": "code",
   "execution_count": 104,
   "id": "c8064909",
   "metadata": {},
   "outputs": [],
   "source": [
    "import json\n",
    "import re\n",
    "from utils import collapse_annotations"
   ]
  },
  {
   "cell_type": "markdown",
   "id": "66fa6d19",
   "metadata": {},
   "source": [
    "Ignore these blocks of code here"
   ]
  },
  {
   "cell_type": "code",
   "execution_count": 105,
   "id": "92b39b57",
   "metadata": {},
   "outputs": [],
   "source": [
    "imsitu_space = json.load(open('imsitu_space.json'))"
   ]
  },
  {
   "cell_type": "code",
   "execution_count": 106,
   "id": "39302df6",
   "metadata": {},
   "outputs": [],
   "source": [
    "def get_word_gender_map(wordsfile = \"/juice/scr/rtaori/imsitu_data/words.txt\"):\n",
    "    word_map = {}\n",
    "    wordmap2 = {}\n",
    "    M = ['man']\n",
    "    F = ['woman']\n",
    "    with open(wordsfile) as words_f:\n",
    "        for line in words_f:\n",
    "            words = line.strip().split('\\t')\n",
    "            word_map[words[0]] = words[1]\n",
    "            all_words = re.split(' |, ', words[1])\n",
    "            gender = set()\n",
    "            for m in M:\n",
    "                if m in all_words:\n",
    "                    gender.add('m')\n",
    "                    break\n",
    "            for f in F:\n",
    "                if f in all_words:\n",
    "                    gender.add('f')\n",
    "                    break\n",
    "            tmp = ''.join(list(gender))\n",
    "            wordmap2[words[0]] = tmp\n",
    "        wordmap2['null'] = 'null'\n",
    "    return word_map, wordmap2"
   ]
  },
  {
   "cell_type": "code",
   "execution_count": 107,
   "id": "1764efcc",
   "metadata": {},
   "outputs": [],
   "source": [
    "word_map, wordmap2 = get_word_gender_map()\n",
    "male_nouns, female_nouns = [], []\n",
    "for noun_id, gender in wordmap2.items():\n",
    "    if gender == 'm':\n",
    "        male_nouns.append(noun_id)\n",
    "    if gender == 'f':\n",
    "        female_nouns.append(noun_id)"
   ]
  },
  {
   "cell_type": "markdown",
   "id": "a9a9a11f",
   "metadata": {},
   "source": [
    "This calculates the gender ratio for cooking on the training set"
   ]
  },
  {
   "cell_type": "code",
   "execution_count": 108,
   "id": "82a042f1",
   "metadata": {},
   "outputs": [],
   "source": [
    "man_noun, woman_noun = 'n10287213', 'n10787470'\n",
    "train_set = json.load(open('train.json'))"
   ]
  },
  {
   "cell_type": "code",
   "execution_count": 109,
   "id": "2e1ea540",
   "metadata": {},
   "outputs": [
    {
     "name": "stdout",
     "output_type": "stream",
     "text": [
      "33 68 0.6732673267326733\n"
     ]
    }
   ],
   "source": [
    "man_count, woman_count = 0, 0\n",
    "for i, (image, info) in enumerate(train_set.items()):\n",
    "    if info['verb'] == 'cooking':\n",
    "        agents = [frame['agent'] for frame in info['frames']]\n",
    "#         is_man = any(noun in agents for noun in male_nouns)\n",
    "#         is_woman = any(noun in agents for noun in female_nouns)\n",
    "        is_man = man_noun in agents\n",
    "        is_woman = woman_noun in agents\n",
    "        if is_man and not is_woman:\n",
    "            man_count += 1\n",
    "        if is_woman and not is_man:\n",
    "            woman_count += 1\n",
    "print(man_count, woman_count, woman_count / (man_count + woman_count))"
   ]
  },
  {
   "cell_type": "code",
   "execution_count": 110,
   "id": "93abb78b",
   "metadata": {},
   "outputs": [],
   "source": [
    "def get_gender_ratios(dataset_or_preds, only_use_main_noun=True):\n",
    "    man_count, woman_count = 0, 0\n",
    "    for i, (image, info_or_pred) in enumerate(dataset_or_preds.items()):\n",
    "        info = info_or_pred[0] if type(info_or_pred) == list else info_or_pred\n",
    "        if info['verb'] == 'cooking': # or True and 'agent' in info['frames'][0]:\n",
    "            agents = [frame['agent'] for frame in info['frames']]\n",
    "            if only_use_main_noun:\n",
    "                is_man = man_noun in agents\n",
    "                is_woman = woman_noun in agents\n",
    "            else:\n",
    "                is_man = any(noun in agents for noun in male_nouns)\n",
    "                is_woman = any(noun in agents for noun in female_nouns)\n",
    "            if is_man and not is_woman:\n",
    "                man_count += 1\n",
    "            if is_woman and not is_man:\n",
    "                woman_count += 1\n",
    "    return man_count, woman_count, woman_count / (man_count + woman_count)"
   ]
  },
  {
   "cell_type": "markdown",
   "id": "28e531f7",
   "metadata": {},
   "source": [
    "This calculates the cooking gender ratio for model predictions and the dataset "
   ]
  },
  {
   "cell_type": "code",
   "execution_count": 111,
   "id": "bc3e5d15",
   "metadata": {},
   "outputs": [],
   "source": [
    "train_set = json.load(open('train.json'))\n",
    "dev_set = json.load(open('dev.json'))\n",
    "test_set = json.load(open('test.json'))\n",
    "data_all = train_set | dev_set | test_set"
   ]
  },
  {
   "cell_type": "code",
   "execution_count": 112,
   "id": "4877d281",
   "metadata": {},
   "outputs": [
    {
     "data": {
      "text/plain": [
       "(58, 110, 0.6547619047619048)"
      ]
     },
     "execution_count": 112,
     "metadata": {},
     "output_type": "execute_result"
    }
   ],
   "source": [
    "get_gender_ratios(data_all)"
   ]
  },
  {
   "cell_type": "code",
   "execution_count": 113,
   "id": "169678c4",
   "metadata": {},
   "outputs": [
    {
     "data": {
      "text/plain": [
       "(33, 68, 0.6732673267326733)"
      ]
     },
     "execution_count": 113,
     "metadata": {},
     "output_type": "execute_result"
    }
   ],
   "source": [
    "get_gender_ratios(train_set)"
   ]
  },
  {
   "cell_type": "code",
   "execution_count": 114,
   "id": "53f9b9cb",
   "metadata": {},
   "outputs": [
    {
     "data": {
      "text/plain": [
       "(13, 26, 0.6666666666666666)"
      ]
     },
     "execution_count": 114,
     "metadata": {},
     "output_type": "execute_result"
    }
   ],
   "source": [
    "get_gender_ratios(dev_set)"
   ]
  },
  {
   "cell_type": "code",
   "execution_count": 115,
   "id": "ab9a5372",
   "metadata": {},
   "outputs": [
    {
     "data": {
      "text/plain": [
       "50"
      ]
     },
     "execution_count": 115,
     "metadata": {},
     "output_type": "execute_result"
    }
   ],
   "source": [
    "sum(['cooking' in k for k, v in dev_set.items()])"
   ]
  },
  {
   "cell_type": "code",
   "execution_count": 116,
   "id": "6b82d881",
   "metadata": {},
   "outputs": [
    {
     "data": {
      "text/plain": [
       "25200"
      ]
     },
     "execution_count": 116,
     "metadata": {},
     "output_type": "execute_result"
    }
   ],
   "source": [
    "len(dev_set)"
   ]
  },
  {
   "cell_type": "code",
   "execution_count": 117,
   "id": "af47c52b",
   "metadata": {},
   "outputs": [
    {
     "data": {
      "text/plain": [
       "(26, 59, 0.6941176470588235)"
      ]
     },
     "execution_count": 117,
     "metadata": {},
     "output_type": "execute_result"
    }
   ],
   "source": [
    "# import sys, importlib\n",
    "# importlib.reload(sys.modules['utils'])\n",
    "# from utils import collapse_annotations\n",
    "collapsed_train_set = collapse_annotations(train_set, use_majority=True)\n",
    "get_gender_ratios(collapsed_train_set)"
   ]
  },
  {
   "cell_type": "code",
   "execution_count": 118,
   "id": "e97ab7c8",
   "metadata": {},
   "outputs": [
    {
     "data": {
      "text/plain": [
       "(8, 51, 0.864406779661017)"
      ]
     },
     "execution_count": 118,
     "metadata": {},
     "output_type": "execute_result"
    }
   ],
   "source": [
    "dev_preds = json.load(open('/juice/scr/rtaori/imsitu_feedback/baselinev2_preds.json'))\n",
    "get_gender_ratios(dev_preds)"
   ]
  },
  {
   "cell_type": "code",
   "execution_count": 119,
   "id": "1c4f0923",
   "metadata": {},
   "outputs": [
    {
     "data": {
      "text/plain": [
       "63"
      ]
     },
     "execution_count": 119,
     "metadata": {},
     "output_type": "execute_result"
    }
   ],
   "source": [
    "sum([v[0]['verb'] == 'cooking' for k, v in dev_preds.items()])"
   ]
  },
  {
   "cell_type": "code",
   "execution_count": 120,
   "id": "3ca19efd",
   "metadata": {},
   "outputs": [
    {
     "data": {
      "text/plain": [
       "(1, 11, 0.9166666666666666)"
      ]
     },
     "execution_count": 120,
     "metadata": {},
     "output_type": "execute_result"
    }
   ],
   "source": [
    "dev_preds = json.load(open('/juice/scr/rtaori/imsitu_feedback/resnet34_majority_v2_preds.json'))\n",
    "get_gender_ratios(dev_preds)"
   ]
  },
  {
   "cell_type": "code",
   "execution_count": 121,
   "id": "0201e2af",
   "metadata": {},
   "outputs": [
    {
     "data": {
      "text/plain": [
       "12"
      ]
     },
     "execution_count": 121,
     "metadata": {},
     "output_type": "execute_result"
    }
   ],
   "source": [
    "sum([v[0]['verb'] == 'cooking' for k, v in dev_preds.items()])"
   ]
  },
  {
   "cell_type": "code",
   "execution_count": 122,
   "id": "2bbe60c1",
   "metadata": {},
   "outputs": [
    {
     "data": {
      "text/plain": [
       "(3, 16, 0.8421052631578947)"
      ]
     },
     "execution_count": 122,
     "metadata": {},
     "output_type": "execute_result"
    }
   ],
   "source": [
    "dev_preds = json.load(open('/juice/scr/rtaori/imsitu_feedback/resnet34_random_v2_preds.json'))\n",
    "get_gender_ratios(dev_preds)"
   ]
  },
  {
   "cell_type": "code",
   "execution_count": 123,
   "id": "77d8fcb9",
   "metadata": {},
   "outputs": [
    {
     "data": {
      "text/plain": [
       "20"
      ]
     },
     "execution_count": 123,
     "metadata": {},
     "output_type": "execute_result"
    }
   ],
   "source": [
    "sum([v[0]['verb'] == 'cooking' for k, v in dev_preds.items()])"
   ]
  },
  {
   "cell_type": "code",
   "execution_count": 124,
   "id": "6c9c1eda",
   "metadata": {},
   "outputs": [
    {
     "data": {
      "text/plain": [
       "(5, 32, 0.8648648648648649)"
      ]
     },
     "execution_count": 124,
     "metadata": {},
     "output_type": "execute_result"
    }
   ],
   "source": [
    "dev_preds = json.load(open('/juice/scr/rtaori/imsitu_feedback/resnet34_baseline_preds.json'))\n",
    "get_gender_ratios(dev_preds)"
   ]
  },
  {
   "cell_type": "code",
   "execution_count": 125,
   "id": "05a2ab8f",
   "metadata": {},
   "outputs": [
    {
     "data": {
      "text/plain": [
       "41"
      ]
     },
     "execution_count": 125,
     "metadata": {},
     "output_type": "execute_result"
    }
   ],
   "source": [
    "sum([v[0]['verb'] == 'cooking' for k, v in dev_preds.items()])"
   ]
  },
  {
   "cell_type": "code",
   "execution_count": 126,
   "id": "83f1ddca",
   "metadata": {},
   "outputs": [
    {
     "name": "stdout",
     "output_type": "stream",
     "text": [
      "110 ['n10084295', 'n10084295', 'n09917593']\n",
      "122 ['n07942152', 'n00007846', 'n07942152']\n",
      "192 ['woman', 'woman', 'woman']\n",
      "205 ['man', 'n07942152', 'n07942152']\n",
      "612 ['n10285313', 'n09917593', 'n10285313']\n",
      "1543 ['man', 'man', 'man']\n",
      "1619 ['man', 'man', 'n09963574']\n",
      "2413 ['n10084295', 'woman', 'n10084295']\n",
      "3011 ['woman', 'woman', 'woman']\n",
      "3069 ['', 'n05217688', 'woman']\n",
      "3376 ['man', 'woman', 'woman']\n",
      "3428 ['woman', 'woman', 'woman']\n",
      "3504 ['', '', 'n00007846']\n",
      "3952 ['woman', 'woman', 'woman']\n",
      "4083 ['woman', 'woman', 'woman']\n",
      "5742 ['n00007846', '', 'n00007846']\n",
      "5787 ['woman', 'woman', 'woman']\n",
      "5802 ['woman', 'woman', 'woman']\n",
      "6137 ['woman', '', 'n00007846']\n",
      "6208 ['man', 'man', 'man']\n",
      "6258 ['man', 'man', 'man']\n",
      "6481 ['man', 'man', 'man']\n",
      "6688 ['woman', 'n09917593', 'n10084295']\n",
      "8374 ['woman', 'woman', 'woman']\n",
      "8488 ['n07985628', 'man', 'n07942152']\n",
      "8640 ['', 'n00007846', 'n00007846']\n",
      "9813 ['woman', 'woman', 'woman']\n",
      "10426 ['n07942152', 'n00007846', 'n07942152']\n",
      "10641 ['man', 'man', 'man']\n",
      "11666 ['woman', 'woman', 'woman']\n",
      "11702 ['woman', 'woman', 'woman']\n",
      "12130 ['n10285313', 'n10285313', 'n10285313']\n",
      "12407 ['man', 'man', 'man']\n",
      "13037 ['n07942152', 'n07942152', 'n09963574']\n",
      "13597 ['woman', 'n09619168', 'woman']\n",
      "13951 ['n00007846', 'n00007846', 'n00007846']\n",
      "16146 ['woman', 'n07942152', 'n07942152']\n",
      "16377 ['man', 'n09963574', 'n09963574']\n",
      "16520 ['woman', 'woman', 'n10332385']\n",
      "16638 ['woman', 'woman', 'woman']\n",
      "17421 ['n04722910', 'woman', 'woman']\n",
      "17983 ['n09992837', 'woman', 'n10084295']\n",
      "18079 ['', 'man', 'n00007846']\n",
      "19808 ['man', 'man', 'man']\n",
      "20813 ['woman', 'woman', 'woman']\n",
      "22771 ['woman', 'woman', 'woman']\n",
      "24417 ['n10285313', 'n10285313', 'n09772029']\n",
      "24525 ['man', 'man', 'man']\n",
      "24538 ['woman', 'woman', 'woman']\n",
      "24755 ['woman', 'woman', 'woman']\n",
      "25037 ['woman', 'woman', 'woman']\n",
      "25511 ['woman', 'woman', 'woman']\n",
      "25682 ['', '', 'n00007846']\n",
      "25882 ['n10285313', 'n10285313', 'n10285313']\n",
      "26025 ['man', 'man', 'man']\n",
      "26169 ['woman', 'woman', 'n09963574']\n",
      "28224 ['', 'n00007846', 'n06474972']\n",
      "29946 ['woman', 'woman', 'n07942152']\n",
      "30037 ['woman', 'woman', 'woman']\n",
      "30201 ['woman', 'woman', 'n09963574']\n",
      "30264 ['woman', 'woman', 'woman']\n",
      "30745 ['woman', 'woman', 'woman']\n",
      "31209 ['n09963574', 'n09963574', 'man']\n",
      "31462 ['woman', 'woman', 'woman']\n",
      "31737 ['n00007846', 'n07942152', 'n07942152']\n",
      "32017 ['n05219561', '', 'n07942152']\n",
      "32166 ['man', 'man', 'man']\n",
      "32299 ['n07942152', 'n07970406', 'n10080869']\n",
      "33230 ['man', 'man', 'man']\n",
      "33311 ['n00007846', '', 'n00007846']\n",
      "33429 ['n00007846', '', 'man']\n",
      "33856 ['', '', 'n00007846']\n",
      "35215 ['man', 'n10285313', 'n10285313']\n",
      "36423 ['woman', 'woman', 'woman']\n",
      "38148 ['man', 'man', 'man']\n",
      "38565 ['woman', 'woman', 'woman']\n",
      "39150 ['woman', 'woman', 'woman']\n",
      "39281 ['n00007846', 'n00007846', 'n00007846']\n",
      "39706 ['woman', 'woman', 'n10332385']\n",
      "40227 ['woman', 'woman', 'woman']\n",
      "42253 ['n10285313', 'n10285313', 'n10285313']\n",
      "42533 ['woman', 'woman', 'woman']\n",
      "42793 ['woman', 'woman', 'n10332385']\n",
      "43135 ['woman', 'n07942152', 'n00031264']\n",
      "44574 ['woman', 'woman', 'woman']\n",
      "44657 ['woman', 'woman', 'woman']\n",
      "44988 ['n09917593', 'woman', 'n09917593']\n",
      "45842 ['n10285313', 'woman', 'n10285313']\n",
      "46258 ['woman', 'woman', 'woman']\n",
      "47324 ['woman', 'woman', 'woman']\n",
      "47397 ['n08212347', 'n09963574', 'man']\n",
      "48745 ['man', 'n09963574', 'n09963574']\n",
      "48966 ['man', 'man', 'man']\n",
      "48968 ['n10332385', 'woman', 'woman']\n",
      "49254 ['woman', 'woman', 'woman']\n",
      "49877 ['woman', 'woman', 'woman']\n",
      "50820 ['n00007846', '', 'n08212347']\n",
      "51741 ['n05564590', 'n00007846', 'n00007846']\n",
      "51767 ['n10084295', 'woman', 'n10084295']\n",
      "51965 ['woman', 'woman', 'n10332385']\n",
      "51968 ['n00031264', 'n07942152', 'n07942152']\n",
      "52531 ['man', 'n09963574', 'man']\n",
      "52730 ['woman', 'man', 'man']\n",
      "52795 ['woman', 'woman', 'n00007846']\n",
      "53365 ['n07942152', 'n09963574', 'woman']\n",
      "53497 ['n07942152', 'n07942152', 'n09963574']\n",
      "54095 ['n07942152', 'n07942152', 'n07942152']\n",
      "54222 ['man', 'n07942152', 'n08078020']\n",
      "54311 ['woman', 'woman', 'woman']\n",
      "55098 ['n10285313', 'n10285313', 'n10285313']\n",
      "55134 ['woman', 'woman', 'woman']\n",
      "55330 ['man', 'man', 'n09963574']\n",
      "55514 ['man', 'man', 'man']\n",
      "55640 ['n07942152', '', 'woman']\n",
      "57238 ['woman', 'n07942152', 'n07942152']\n",
      "58507 ['woman', 'n07942152', 'n07942152']\n",
      "58608 ['woman', 'n07985628', 'man']\n",
      "59674 ['woman', 'woman', 'n07942152']\n",
      "59846 ['woman', 'woman', 'woman']\n",
      "59952 ['woman', 'woman', 'woman']\n",
      "60510 ['n10285313', 'n09918248', 'n10285313']\n",
      "62290 ['', 'n00007846', 'n00007846']\n",
      "62365 ['woman', 'woman', 'woman']\n",
      "64173 ['man', 'man', 'n07942152']\n",
      "64640 ['woman', 'woman', 'n07942152']\n",
      "65113 ['woman', 'woman', 'woman']\n",
      "65140 ['', '', 'n00007846']\n",
      "65520 ['woman', 'n07942152', 'woman']\n",
      "66489 ['man', 'n07942152', 'n09963574']\n",
      "66952 ['n10084295', 'n10084295', 'n09917593']\n",
      "67478 ['man', 'man', 'man']\n",
      "69200 ['woman', 'woman', 'woman']\n",
      "70369 ['man', 'man', 'man']\n",
      "70484 ['woman', 'woman', 'woman']\n",
      "70661 ['n00031264', 'n07942152', 'n07942152']\n",
      "70873 ['man', '', 'n00007846']\n",
      "70875 ['man', 'man', 'n09963574']\n",
      "71616 ['woman', 'woman', 'woman']\n",
      "71794 ['man', 'man', 'man']\n",
      "72945 ['n07942152', 'n07942152', 'n00007846']\n",
      "73746 ['woman', 'n10332385', 'woman']\n",
      "73749 ['woman', 'woman', 'woman']\n",
      "74148 ['woman', 'woman', 'woman']\n",
      "75374 ['man', 'man', 'n09963574']\n"
     ]
    }
   ],
   "source": [
    "for i, (image, info) in enumerate(train_set.items()):\n",
    "    if info['verb'] == 'cooking':\n",
    "        agents = [frame['agent'] for frame in info['frames']]\n",
    "#         agents = [word_map[agent] if agent != '' else '' for agent in agents]\n",
    "        agents = ['man' if agent in wordmap2 and wordmap2[agent] == 'm' else agent for agent in agents]\n",
    "        agents = ['woman' if agent in wordmap2 and wordmap2[agent] == 'f' else agent for agent in agents]\n",
    "#         agents = ['woman_noun' if agent == woman_noun else agent for agent in agents]\n",
    "        print(i, agents)"
   ]
  },
  {
   "cell_type": "code",
   "execution_count": 127,
   "id": "7f5b91de",
   "metadata": {},
   "outputs": [
    {
     "name": "stdout",
     "output_type": "stream",
     "text": [
      "110 ['n10084295']\n",
      "122 ['n07942152']\n",
      "192 ['woman']\n",
      "205 ['n07942152']\n",
      "612 ['n10285313']\n",
      "1543 ['man']\n",
      "1619 ['man']\n",
      "2413 ['n10084295']\n",
      "3011 ['woman']\n",
      "3069 ['n05217688']\n",
      "3376 ['woman']\n",
      "3428 ['woman']\n",
      "3504 ['n00007846']\n",
      "3952 ['woman']\n",
      "4083 ['woman']\n",
      "5742 ['n00007846']\n",
      "5787 ['woman']\n",
      "5802 ['woman']\n",
      "6137 ['n00007846']\n",
      "6208 ['man']\n",
      "6258 ['man']\n",
      "6481 ['man']\n",
      "6688 ['n10084295']\n",
      "8374 ['woman']\n",
      "8488 ['n07985628']\n",
      "8640 ['n00007846']\n",
      "9813 ['woman']\n",
      "10426 ['n07942152']\n",
      "10641 ['man']\n",
      "11666 ['woman']\n",
      "11702 ['woman']\n",
      "12130 ['n10285313']\n",
      "12407 ['man']\n",
      "13037 ['n07942152']\n",
      "13597 ['woman']\n",
      "13951 ['n00007846']\n",
      "16146 ['n07942152']\n",
      "16377 ['n09963574']\n",
      "16520 ['woman']\n",
      "16638 ['woman']\n",
      "17421 ['woman']\n",
      "17983 ['n10084295']\n",
      "18079 ['n00007846']\n",
      "19808 ['man']\n",
      "20813 ['woman']\n",
      "22771 ['woman']\n",
      "24417 ['n10285313']\n",
      "24525 ['man']\n",
      "24538 ['woman']\n",
      "24755 ['woman']\n",
      "25037 ['woman']\n",
      "25511 ['woman']\n",
      "25682 ['n00007846']\n",
      "25882 ['n10285313']\n",
      "26025 ['man']\n",
      "26169 ['woman']\n",
      "28224 ['n00007846']\n",
      "29946 ['woman']\n",
      "30037 ['woman']\n",
      "30201 ['woman']\n",
      "30264 ['woman']\n",
      "30745 ['woman']\n",
      "31209 ['n09963574']\n",
      "31462 ['woman']\n",
      "31737 ['n07942152']\n",
      "32017 ['n07942152']\n",
      "32166 ['man']\n",
      "32299 ['n10080869']\n",
      "33230 ['man']\n",
      "33311 ['n00007846']\n",
      "33429 ['n00007846']\n",
      "33856 ['n00007846']\n",
      "35215 ['n10285313']\n",
      "36423 ['woman']\n",
      "38148 ['man']\n",
      "38565 ['woman']\n",
      "39150 ['woman']\n",
      "39281 ['n00007846']\n",
      "39706 ['woman']\n",
      "40227 ['woman']\n",
      "42253 ['n10285313']\n",
      "42533 ['woman']\n",
      "42793 ['woman']\n",
      "43135 ['n07942152']\n",
      "44574 ['woman']\n",
      "44657 ['woman']\n",
      "44988 ['n09917593']\n",
      "45842 ['n10285313']\n",
      "46258 ['woman']\n",
      "47324 ['woman']\n",
      "47397 ['n09963574']\n",
      "48745 ['n09963574']\n",
      "48966 ['man']\n",
      "48968 ['woman']\n",
      "49254 ['woman']\n",
      "49877 ['woman']\n",
      "50820 ['n00007846']\n",
      "51741 ['n00007846']\n",
      "51767 ['n10084295']\n",
      "51965 ['woman']\n",
      "51968 ['n07942152']\n",
      "52531 ['man']\n",
      "52730 ['man']\n",
      "52795 ['woman']\n",
      "53365 ['n07942152']\n",
      "53497 ['n07942152']\n",
      "54095 ['n07942152']\n",
      "54222 ['man']\n",
      "54311 ['woman']\n",
      "55098 ['n10285313']\n",
      "55134 ['woman']\n",
      "55330 ['man']\n",
      "55514 ['man']\n",
      "55640 ['n07942152']\n",
      "57238 ['n07942152']\n",
      "58507 ['n07942152']\n",
      "58608 ['woman']\n",
      "59674 ['woman']\n",
      "59846 ['woman']\n",
      "59952 ['woman']\n",
      "60510 ['n10285313']\n",
      "62290 ['n00007846']\n",
      "62365 ['woman']\n",
      "64173 ['man']\n",
      "64640 ['woman']\n",
      "65113 ['woman']\n",
      "65140 ['n00007846']\n",
      "65520 ['woman']\n",
      "66489 ['n09963574']\n",
      "66952 ['n10084295']\n",
      "67478 ['man']\n",
      "69200 ['woman']\n",
      "70369 ['man']\n",
      "70484 ['woman']\n",
      "70661 ['n07942152']\n",
      "70873 ['man']\n",
      "70875 ['man']\n",
      "71616 ['woman']\n",
      "71794 ['man']\n",
      "72945 ['n07942152']\n",
      "73746 ['woman']\n",
      "73749 ['woman']\n",
      "74148 ['woman']\n",
      "75374 ['man']\n"
     ]
    }
   ],
   "source": [
    "for i, (image, info) in enumerate(collapsed_train_set.items()):\n",
    "    if info['verb'] == 'cooking':\n",
    "        agents = [frame['agent'] for frame in info['frames']]\n",
    "#         agents = [word_map[agent] if agent != '' else '' for agent in agents]\n",
    "        agents = ['man' if agent in wordmap2 and wordmap2[agent] == 'm' else agent for agent in agents]\n",
    "        agents = ['woman' if agent in wordmap2 and wordmap2[agent] == 'f' else agent for agent in agents]\n",
    "#         agents = ['woman_noun' if agent == woman_noun else agent for agent in agents]\n",
    "        print(i, agents)"
   ]
  },
  {
   "cell_type": "code",
   "execution_count": 128,
   "id": "e651390f",
   "metadata": {},
   "outputs": [
    {
     "data": {
      "text/plain": [
       "'female child, girl, little girl'"
      ]
     },
     "execution_count": 128,
     "metadata": {},
     "output_type": "execute_result"
    }
   ],
   "source": [
    "word_map['n10084295']"
   ]
  },
  {
   "cell_type": "code",
   "execution_count": null,
   "id": "f27baa43",
   "metadata": {},
   "outputs": [],
   "source": []
  }
 ],
 "metadata": {
  "kernelspec": {
   "display_name": "Python 3 (ipykernel)",
   "language": "python",
   "name": "python3"
  },
  "language_info": {
   "codemirror_mode": {
    "name": "ipython",
    "version": 3
   },
   "file_extension": ".py",
   "mimetype": "text/x-python",
   "name": "python",
   "nbconvert_exporter": "python",
   "pygments_lexer": "ipython3",
   "version": "3.9.6"
  }
 },
 "nbformat": 4,
 "nbformat_minor": 5
}
